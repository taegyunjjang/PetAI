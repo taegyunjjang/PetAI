{
 "cells": [
  {
   "cell_type": "code",
   "execution_count": 2,
   "metadata": {},
   "outputs": [],
   "source": [
    "import pandas as pd\n",
    "import time\n",
    "import re\n",
    "import os\n",
    "import json\n",
    "\n",
    "import openai\n",
    "from dotenv import load_dotenv"
   ]
  },
  {
   "cell_type": "code",
   "execution_count": null,
   "metadata": {},
   "outputs": [],
   "source": [
    "# file_path = \"data/processed_data.csv\"\n",
    "# output_path = \"data/processed_data.json\"\n",
    "# df = pd.read_csv(file_path)\n",
    "# df.to_json(output_path, orient='records', force_ascii=False, indent=4)"
   ]
  },
  {
   "cell_type": "code",
   "execution_count": null,
   "metadata": {},
   "outputs": [],
   "source": [
    "# file_path = \"data/no_img_med_expert_sample500.csv\"\n",
    "# df = pd.read_csv(file_path)\n",
    "\n",
    "# df['질문'] = df['제목'] + \" \" + df['질문'].fillna('')\n",
    "# df = df[['질문', '답변']]"
   ]
  },
  {
   "cell_type": "code",
   "execution_count": 56,
   "metadata": {},
   "outputs": [],
   "source": [
    "file_path = \"data/med_expert.csv\"\n",
    "df = pd.read_csv(file_path, encoding='utf-8')"
   ]
  },
  {
   "cell_type": "code",
   "execution_count": 57,
   "metadata": {},
   "outputs": [
    {
     "name": "stdout",
     "output_type": "stream",
     "text": [
      "원본 데이터 크기: 26090\n",
      "필터링 후 데이터 크기: 16803\n"
     ]
    }
   ],
   "source": [
    "def extract_text_data(df):\n",
    "    extracted_df = df[(df['photo_attached'] == '사진 없음') &\n",
    "                     (df['answer_photo'] == '사진 없음') &\n",
    "                     (df['video_attached'] == '동영상 없음') &\n",
    "                     (df['answer_video'] == '동영상 없음')]\n",
    "    \n",
    "    print(f\"원본 데이터 크기: {len(df)}\")\n",
    "    print(f\"필터링 후 데이터 크기: {len(extracted_df)}\")\n",
    "    \n",
    "    return extracted_df\n",
    "\n",
    "df = extract_text_data(df)"
   ]
  },
  {
   "cell_type": "code",
   "execution_count": 58,
   "metadata": {},
   "outputs": [],
   "source": [
    "def remove_common_greetings(text):\n",
    "    if not isinstance(text, str):\n",
    "        return ''\n",
    "    \n",
    "    # 유니코드 특수문자(제로폭 공백 등) 제거\n",
    "    text = re.sub(r'[\\u200b\\u200c\\u200d\\u2060\\ufeff]', '', text)\n",
    "    \n",
    "    patterns = [\n",
    "        # 시작 문구\n",
    "        r'^안녕하세요.*?입니다\\.?\\s*',\n",
    "        \n",
    "        # 끝 문구\n",
    "        r'\\s*감사합니다\\.?\\s*$',\n",
    "        r'\\s*고맙습니다\\.?\\s*$',\n",
    "        r'\\s*안녕히\\s*계세요\\.?\\s*$',\n",
    "        r'\\s*안녕히\\s*가세요\\.?\\s*$',\n",
    "        r'\\s*수고하세요\\.?\\s*$',\n",
    "    ]\n",
    "    \n",
    "    for pattern in patterns:\n",
    "        text = re.sub(pattern, '', text, flags=re.MULTILINE | re.UNICODE).strip()\n",
    "    \n",
    "    return text\n",
    "\n",
    "df['답변'] = df['답변'].apply(remove_common_greetings)"
   ]
  },
  {
   "cell_type": "code",
   "execution_count": 59,
   "metadata": {},
   "outputs": [
    {
     "name": "stdout",
     "output_type": "stream",
     "text": [
      "<class 'pandas.core.frame.DataFrame'>\n",
      "Index: 16803 entries, 4 to 26089\n",
      "Data columns (total 3 columns):\n",
      " #   Column    Non-Null Count  Dtype \n",
      "---  ------    --------------  ----- \n",
      " 0   id        16803 non-null  int64 \n",
      " 1   question  16803 non-null  object\n",
      " 2   answer    16803 non-null  object\n",
      "dtypes: int64(1), object(2)\n",
      "memory usage: 525.1+ KB\n"
     ]
    }
   ],
   "source": [
    "def prepare_qna_data(df):\n",
    "    df['id'] = list(range(len(df)))\n",
    "    df['question'] = df['제목'] + \" \" + df['질문'].fillna('')\n",
    "    df['answer'] = df['답변']\n",
    "    return df[['id', 'question', 'answer']]\n",
    "\n",
    "df = prepare_qna_data(df)\n",
    "df.info()"
   ]
  },
  {
   "cell_type": "markdown",
   "metadata": {},
   "source": [
    "### LLM 기반 (gpt-4o-mini)"
   ]
  },
  {
   "cell_type": "code",
   "execution_count": 60,
   "metadata": {},
   "outputs": [],
   "source": [
    "load_dotenv()\n",
    "OPENAI_API_KEY = os.getenv(\"OPENAI_API_KEY\")\n",
    "client = openai.OpenAI(api_key=OPENAI_API_KEY)\n",
    "\n",
    "with open(\"prompt/filtering_prompt_system.txt\", \"r\", encoding=\"utf-8\") as file:\n",
    "    system_prompt = file.read()\n",
    "    \n",
    "with open(\"prompt/filtering_prompt_user.txt\", \"r\", encoding=\"utf-8\") as file:\n",
    "    base_user_prompt = file.read()\n",
    "\n",
    "def filter_text(question, answer):\n",
    "    question = str(question) if question is not None else \"\"\n",
    "    answer = str(answer) if answer is not None else \"\"\n",
    "    \n",
    "    user_prompt = base_user_prompt.replace(\"{질문}\", question).replace(\"{답변}\", answer)\n",
    "    \n",
    "    response = client.chat.completions.create(\n",
    "        model=\"gpt-4o-mini\",\n",
    "        messages=[\n",
    "            {\"role\": \"system\", \"content\": system_prompt},\n",
    "            {\"role\": \"user\", \"content\": user_prompt}],\n",
    "        seed=42\n",
    "    )\n",
    "    \n",
    "    return response.choices[0].message.content.strip()"
   ]
  },
  {
   "cell_type": "code",
   "execution_count": 64,
   "metadata": {},
   "outputs": [
    {
     "name": "stdout",
     "output_type": "stream",
     "text": [
      "CSV 형식으로 'data/filtered_data.csv'에 저장되었습니다.\n",
      "JSON 형식으로 'data/filtered_data.json'에 저장되었습니다.\n",
      "전체 처리 시간: 2044.16초\n"
     ]
    }
   ],
   "source": [
    "# 500개 랜덤 샘플링\n",
    "sampled_df = df.sample(n=500, random_state=42).copy()\n",
    "\n",
    "# 필터링된 결과를 저장할 리스트\n",
    "filtered_questions = []\n",
    "filtered_answers = []\n",
    "\n",
    "start_time = time.time()\n",
    "for _, row in sampled_df.iterrows():\n",
    "    output = filter_text(row['question'], row['answer'])\n",
    "\n",
    "    question_match = re.search(r\"필터링된 질문:\\s*(.+)\", output)\n",
    "    answer_match = re.search(r\"필터링된 답변:\\s*(.+)\", output)\n",
    "\n",
    "    filtered_question = question_match.group(1).strip() if question_match else \"\"\n",
    "    filtered_question = \"\" if pd.isna(filtered_question) else filtered_question\n",
    "    filtered_answer = answer_match.group(1).strip() if answer_match else \"\"\n",
    "    filtered_answer = \"\" if pd.isna(filtered_answer) else filtered_answer\n",
    "    \n",
    "    filtered_questions.append(filtered_question)\n",
    "    filtered_answers.append(filtered_answer)\n",
    "    \n",
    "sampled_df['filtered_question'] = filtered_questions\n",
    "sampled_df['filtered_answer'] = filtered_answers\n",
    "\n",
    "sampled_df['original_question'] = sampled_df['question']\n",
    "sampled_df['original_answer'] = sampled_df['answer']\n",
    "sampled_df = sampled_df[['id', 'original_question', 'filtered_question', 'original_answer', 'filtered_answer']]\n",
    "\n",
    "output_file_csv = \"data/filtered_data.csv\"\n",
    "sampled_df.to_csv(output_file_csv, index=False, encoding='utf-8')\n",
    "\n",
    "output_file_json = \"data/filtered_data.json\"\n",
    "sampled_df.to_json(output_file_json, orient='records', force_ascii=False, indent=4)\n",
    "\n",
    "end_time = time.time()\n",
    "elapsed_time = end_time - start_time\n",
    "\n",
    "print(f\"CSV 형식으로 '{output_file_csv}'에 저장되었습니다.\")\n",
    "print(f\"JSON 형식으로 '{output_file_json}'에 저장되었습니다.\")\n",
    "print(f\"전체 처리 시간: {elapsed_time:.2f}초\")"
   ]
  },
  {
   "cell_type": "markdown",
   "metadata": {},
   "source": [
    "NaN 제거 및 column명 변경"
   ]
  },
  {
   "cell_type": "code",
   "execution_count": 66,
   "metadata": {},
   "outputs": [
    {
     "name": "stdout",
     "output_type": "stream",
     "text": [
      "드롭될 행의 개수: 89\n"
     ]
    }
   ],
   "source": [
    "file_path = \"data/filtered_data.csv\"\n",
    "df = pd.read_csv(file_path, encoding='utf-8')\n",
    "initial_row_count = len(df)\n",
    "df = df[~(df['filtered_question'].isna()) & ~(df['filtered_answer'].isna())]\n",
    "dropped_row_count = initial_row_count - len(df)\n",
    "print(f\"드롭될 행의 개수: {dropped_row_count}\")"
   ]
  },
  {
   "cell_type": "code",
   "execution_count": null,
   "metadata": {},
   "outputs": [
    {
     "name": "stdout",
     "output_type": "stream",
     "text": [
      "드롭된 행의 개수: 89\n",
      "CSV 형식으로 'data/preprocessed_data.csv'에 저장되었습니다.\n"
     ]
    }
   ],
   "source": [
    "file_path = \"data/filtered_data.csv\"\n",
    "output_file_csv = \"data/preprocessed_data.csv\"\n",
    "output_file_json = \"data/preprocessed_data.json\"\n",
    "\n",
    "df = pd.read_csv(file_path)\n",
    "initial_row_count = len(df)\n",
    "df = df[~(df['filtered_question'].isna()) & ~(df['filtered_answer'].isna())]\n",
    "dropped_row_count = initial_row_count - len(df)\n",
    "df['question'] = df['filtered_question']\n",
    "df['answer'] = df['filtered_answer']\n",
    "df = df[['id', 'question', 'answer']]\n",
    "\n",
    "df.to_csv(output_file_csv, index=False, encoding='utf-8')\n",
    "df.to_json(output_file_json, orient='records', force_ascii=False, indent=4)\n",
    "\n",
    "print(f\"드롭된 행의 개수: {dropped_row_count}\")\n",
    "print(f\"CSV 형식으로 '{output_file_csv}'에 저장되었습니다.\")\n",
    "print(f\"JSON 형식으로 '{output_file_json}'에 저장되었습니다.\")"
   ]
  },
  {
   "cell_type": "markdown",
   "metadata": {},
   "source": [
    "중복되는 질문 제거"
   ]
  },
  {
   "cell_type": "code",
   "execution_count": null,
   "metadata": {},
   "outputs": [],
   "source": [
    "import pandas as pd\n",
    "import numpy as np\n",
    "from sentence_transformers import SentenceTransformer\n",
    "from sklearn.metrics.pairwise import cosine_similarity\n",
    "import torch\n",
    "\n",
    "def analyze_duplicate_questions(input_file, output_file, similarity_threshold=0.8):\n",
    "    \"\"\"\n",
    "    유사한 질문들을 분석하고 시각화하는 함수\n",
    "    \n",
    "    Parameters:\n",
    "    - input_file (str): 입력 CSV 파일 경로\n",
    "    - output_file (str): 분석 결과 CSV 파일 경로\n",
    "    - similarity_threshold (float): 유사도 임계값 (기본값: 0.8)\n",
    "    \n",
    "    Returns:\n",
    "    - pandas.DataFrame: 유사한 질문 쌍 정보 데이터프레임\n",
    "    \"\"\"\n",
    "    # 데이터 로드\n",
    "    df = pd.read_csv(input_file)\n",
    "    \n",
    "    # Sentence BERT 모델 로드\n",
    "    model = SentenceTransformer('jhgan/ko-sroberta-multitask')\n",
    "    \n",
    "    # 질문들에 대한 임베딩 생성\n",
    "    question_embeddings = model.encode(df['question'].tolist(), convert_to_tensor=True)\n",
    "    \n",
    "    # 코사인 유사도 계산\n",
    "    similarity_matrix = cosine_similarity(\n",
    "        question_embeddings.cpu().numpy(), \n",
    "        question_embeddings.cpu().numpy()\n",
    "    )\n",
    "    \n",
    "    # 유사한 질문 쌍 저장할 리스트\n",
    "    similar_questions = []\n",
    "    \n",
    "    # 유사한 질문 쌍 찾기\n",
    "    for i in range(len(df)):\n",
    "        similar_indices = np.where(\n",
    "            (similarity_matrix[i] > similarity_threshold) &  # 엄격하게 초과로 변경\n",
    "            (similarity_matrix[i] < 1.0 - 1e-10)  # 완전히 동일한 행 제외\n",
    "        )[0]\n",
    "        \n",
    "        for idx in similar_indices:\n",
    "            if df.loc[i, 'question'] != df.loc[idx, 'question']:  # 텍스트 비교 추가\n",
    "                similar_questions.append({\n",
    "                    'original_question': df.loc[i, 'question'],\n",
    "                    'similar_question': df.loc[idx, 'question'],\n",
    "                    'similarity_score': float('{:.2f}'.format(similarity_matrix[i, idx]))\n",
    "                })\n",
    "    \n",
    "    # 유사한 질문 쌍 데이터프레임 생성\n",
    "    similar_questions_df = pd.DataFrame(similar_questions)\n",
    "    \n",
    "    # 중복 제거 (동일한 질문 쌍 제거)\n",
    "    similar_questions_df = similar_questions_df.drop_duplicates(\n",
    "        subset=['original_question', 'similar_question']\n",
    "    )\n",
    "    \n",
    "    # 결과 파일 저장\n",
    "    # similar_questions_df.to_csv(output_file, index=False, encoding='utf-8-sig')\n",
    "    similar_questions_df.to_json(output_file.replace('.csv', '.json'), \n",
    "                                  orient='records', \n",
    "                                  force_ascii=False, \n",
    "                                  indent=4)\n",
    "    \n",
    "    # 유사한 질문 쌍 출력\n",
    "    print(\"유사한 질문 쌍\")\n",
    "    print(\"------------------\")\n",
    "    for _, row in similar_questions_df.iterrows():\n",
    "        print(f\"\\n원본 질문: {row['original_question']}\")\n",
    "        print(f\"유사한 질문: {row['similar_question']}\")\n",
    "        print(f\"유사도 점수: {row['similarity_score']:.2f}\")\n",
    "    \n",
    "    # 통계 출력\n",
    "    print(f\"\\n총 유사한 질문 쌍 수: {len(similar_questions_df)}\")\n",
    "    \n",
    "    return similar_questions_df\n",
    "\n",
    "# 사용 예시\n",
    "input_path = \"data/processed_data.csv\"\n",
    "output_path = \"data/similar_questions.csv\"\n",
    "\n",
    "# 유사한 질문 분석\n",
    "analyze_duplicate_questions(\n",
    "    input_file=input_path, \n",
    "    output_file=output_path,\n",
    "    # similarity_threshold=0.9\n",
    ")"
   ]
  },
  {
   "cell_type": "markdown",
   "metadata": {},
   "source": [
    "### 정규 표현식 검증"
   ]
  },
  {
   "cell_type": "code",
   "execution_count": 81,
   "metadata": {},
   "outputs": [
    {
     "name": "stdout",
     "output_type": "stream",
     "text": [
      "original:   감사합니다.\n",
      "cleaned: \n"
     ]
    }
   ],
   "source": [
    "import re\n",
    "\n",
    "def remove_common_greetings(text):\n",
    "    if not isinstance(text, str):\n",
    "        return ''\n",
    "\n",
    "    # 유니코드 특수문자(제로폭 공백 등) 제거\n",
    "    text = re.sub(r'[\\u200b\\u200c\\u200d\\u2060\\ufeff]', '', text)\n",
    "    \n",
    "    patterns = [\n",
    "        # 시작 문구\n",
    "        r'^안녕하세요.*?입니다\\.?\\s*',\n",
    "        \n",
    "        # 끝 문구\n",
    "        r'\\s*감사합니다\\.?\\s*$',\n",
    "        r'\\s*고맙습니다\\.?\\s*$',\n",
    "        r'\\s*안녕히\\s*계세요\\.?\\s*$',\n",
    "        r'\\s*안녕히\\s*가세요\\.?\\s*$',\n",
    "        r'\\s*수고하세요\\.?\\s*$',\n",
    "    ]\n",
    "    \n",
    "    for pattern in patterns:\n",
    "        text = re.sub(pattern, '', text, flags=re.MULTILINE | re.UNICODE).strip()\n",
    "    \n",
    "    return text\n",
    "\n",
    "text = \"  감사합니다.\"\n",
    "\n",
    "cleaned_text = remove_common_greetings(text)\n",
    "print(f\"original: {text}\")\n",
    "print(f\"cleaned: {cleaned_text}\")"
   ]
  },
  {
   "cell_type": "code",
   "execution_count": 48,
   "metadata": {},
   "outputs": [
    {
     "name": "stdout",
     "output_type": "stream",
     "text": [
      "NaN\n"
     ]
    }
   ],
   "source": [
    "output = \"필터링된 질문: NaN\"\n",
    "question_match = re.search(r\"필터링된 질문:\\s*(.+)\", output)\n",
    "\n",
    "filtered_question = question_match.group(1).strip()\n",
    "filtered_question = \"\" if pd.isna(filtered_question) else filtered_question\n",
    "    \n",
    "print(filtered_question)"
   ]
  },
  {
   "cell_type": "code",
   "execution_count": 27,
   "metadata": {},
   "outputs": [
    {
     "name": "stdout",
     "output_type": "stream",
     "text": [
      "original question: 강아지가 노란똥을 오늘 학교갔다와서 강아지랑 놀아주는데 애가 노란색의 되게 딱딱한 똥을 쌌더라구요...이건 무슨경우인가요? 빠른 답변 부탁드리겠습니다ㅜㅜ\n",
      "filtered question: 강아지가 노란똥을 쌌습니다. 이는 무슨 경우인가요? 빠른 답변 부탁드립니다.\n",
      "original answer: 혹시 고구마 같은 것을 많이 먹이시지는 않으셨는지요? 설사이거나 매우 심각한 소화 불량질환을 겪은 경우가 아니라면 배변의 색이 변하는 경우는 특정 음식을 매우 많이 먹은 경우가 대부분 입니다\n",
      "filtered answer: 혹시 고구마 같은 것을 많이 먹이셨는지요? 설사이거나 매우 심각한 소화 불량 질환을 겪은 경우가 아니라면 배변의 색이 변하는 경우는 특정 음식을 매우 많이 먹은 경우가 대부분입니다.\n"
     ]
    }
   ],
   "source": [
    "load_dotenv()\n",
    "OPENAI_API_KEY = os.getenv(\"OPENAI_API_KEY\")\n",
    "client = openai.OpenAI(api_key=OPENAI_API_KEY)\n",
    "\n",
    "with open(\"prompt/filtering_prompt_2.txt\", \"r\", encoding=\"utf-8\") as file:\n",
    "    base_prompt = file.read()\n",
    "\n",
    "def filter_text(question, answer):\n",
    "    question = str(question) if question is not None else \"\"\n",
    "    answer = str(answer) if answer is not None else \"\"\n",
    "    \n",
    "    prompt = base_prompt.replace(\"{질문}\", question).replace(\"{답변}\", answer)\n",
    "    \n",
    "    response = client.chat.completions.create(\n",
    "        model=\"gpt-4o-mini\",\n",
    "        messages=[\n",
    "            {\"role\": \"system\", \"content\": \"당신은 주어진 데이터를 필터링하는 전문가입니다.\"},\n",
    "            {\"role\": \"user\", \"content\": prompt}]\n",
    "    )\n",
    "    \n",
    "    return response.choices[0].message.content.strip()\n",
    "\n",
    "question = \"강아지가 노란똥을 오늘 학교갔다와서 강아지랑 놀아주는데 애가 노란색의 되게 딱딱한 똥을 쌌더라구요...이건 무슨경우인가요? 빠른 답변 부탁드리겠습니다ㅜㅜ\"\n",
    "answer = \"혹시 고구마 같은 것을 많이 먹이시지는 않으셨는지요? 설사이거나 매우 심각한 소화 불량질환을 겪은 경우가 아니라면 배변의 색이 변하는 경우는 특정 음식을 매우 많이 먹은 경우가 대부분 입니다\"\n",
    "output = filter_text(question, answer)\n",
    "\n",
    "question_match = re.search(r\"필터링된 질문:\\s*(.+)\", output)\n",
    "answer_match = re.search(r\"필터링된 답변:\\s*(.+)\", output)\n",
    "\n",
    "filtered_question = question_match.group(1).strip() if question_match else \"\"\n",
    "filtered_question = \"\" if pd.isna(filtered_question) else filtered_question\n",
    "filtered_answer = answer_match.group(1).strip() if answer_match else \"\"\n",
    "filtered_answer = \"\" if pd.isna(filtered_answer) else filtered_answer\n",
    "\n",
    "print(f\"original question: {question}\")\n",
    "print(f\"filtered question: {filtered_question}\")\n",
    "print(f\"original answer: {answer}\")\n",
    "print(f\"filtered answer: {filtered_answer}\")"
   ]
  },
  {
   "cell_type": "code",
   "execution_count": null,
   "metadata": {},
   "outputs": [],
   "source": []
  },
  {
   "cell_type": "code",
   "execution_count": null,
   "metadata": {},
   "outputs": [],
   "source": []
  }
 ],
 "metadata": {
  "kernelspec": {
   "display_name": "PET",
   "language": "python",
   "name": "python3"
  },
  "language_info": {
   "codemirror_mode": {
    "name": "ipython",
    "version": 3
   },
   "file_extension": ".py",
   "mimetype": "text/x-python",
   "name": "python",
   "nbconvert_exporter": "python",
   "pygments_lexer": "ipython3",
   "version": "3.13.2"
  }
 },
 "nbformat": 4,
 "nbformat_minor": 2
}
